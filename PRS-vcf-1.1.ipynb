{
 "cells": [
  {
   "cell_type": "markdown",
   "metadata": {},
   "source": [
    "### Calculating PRS using VCF files\n"
   ]
  },
  {
   "cell_type": "code",
   "execution_count": 101,
   "metadata": {
    "collapsed": false
   },
   "outputs": [
    {
     "data": {
      "text/html": [
       "<style>.container { width:100% !important; }</style>"
      ],
      "text/plain": [
       "<IPython.core.display.HTML object>"
      ]
     },
     "metadata": {},
     "output_type": "display_data"
    }
   ],
   "source": [
    "# making the notebok wider\n",
    "from IPython.core.display import display, HTML\n",
    "display(HTML(\"<style>.container { width:100% !important; }</style>\"))"
   ]
  },
  {
   "cell_type": "code",
   "execution_count": 10,
   "metadata": {
    "collapsed": false
   },
   "outputs": [
    {
     "name": "stdout",
     "output_type": "stream",
     "text": [
      "<pyspark.sql.session.SparkSession object at 0x108ec5650>\n",
      "<pyspark.context.SparkContext object at 0x102077810>\n"
     ]
    }
   ],
   "source": [
    "from __future__ import division\n",
    "import pyspark \n",
    "from pyspark.sql import SparkSession\n",
    "from pyspark.sql import Row\n",
    "from pyspark.sql.functions import udf\n",
    "from pyspark.sql.types import *\n",
    "from pyspark import SparkConf, SparkContext\n",
    "# We can give a name to our app (to find it in Spark WebUI) and configure execution mode\n",
    "\n",
    "APP_NAME=\"MAVANvcfPRS\"\n",
    "spark=SparkSession.builder.appName(APP_NAME).config(\"spark.ui.port\", \"4040\").getOrCreate()\n",
    "#conf = pyspark.SparkConf().setAppName(APP_NAME).set()#.set(\"spark.serializer\", \"org.apache.spark.serializer.KryoSerializer\")\n",
    "sc = spark.sparkContext\n",
    "\n",
    "sc.setLogLevel(\"WARN\")\n",
    "log4jLogger = sc._jvm.org.apache.log4j\n",
    "LOGGER = log4jLogger.LogManager.getLogger(__name__)\n",
    "LOGGER.info(\"Start Reading Files\")\n",
    "#def main(gwasFile, genoFileList, thresholdList):\n",
    "\n",
    "print(spark)\n",
    "print(sc)"
   ]
  },
  {
   "cell_type": "code",
   "execution_count": 58,
   "metadata": {
    "collapsed": false
   },
   "outputs": [],
   "source": [
    "from operator import add\n",
    "import re\n",
    "import glob, os\n",
    "import csv\n",
    "from collections import Counter\n",
    "import ntpath\n",
    "import functools\n",
    "#from functools import reduce\n",
    "from math import log\n",
    "import itertools\n",
    "import PRS_run as PRS_VCF_utils\n",
    "from time import time\n",
    "from copy import deepcopy\n",
    "#**ATTN: python index starts at 0, so if you want to specify the second column, use 1\n",
    "#**ATTN: please remove the header of the GWAS file if there is any\n",
    "\n",
    "# define column number for contents in GWAS\n",
    "\n",
    "gwas_id=0    # column of SNP ID\n",
    "gwas_p=7     # column of P value\n",
    "gwas_or=5    # column of odds ratio\n",
    "gwas_a1=3    # column of a1 in the GWAS\n",
    "gwas_maf=10 # column index of maf in the GWAS\n",
    "\n",
    "# defin column number for contents in genfile\n",
    "geno_id=2  # column number with rsID\n",
    "geno_start=9 # column number of the 1st genotype, in the raw vcf files, after separated by the delimiter of choice\n",
    "geno_a1 = 3  # column number that contains the reference allele\n",
    "\n",
    "\n",
    "# List of thresholds:\n",
    "thresholds=[0.5, 0.3, 0.2, 0.1, 0.05, 0.01, 0.001]\n",
    "\n",
    "# file delimiters:\n",
    "GWAS_delim=\"\\t\"\n",
    "GENO_delim=\"\\t\"\n",
    "\n",
    "# file names:\n",
    "home=\"/Volumes/mavan/Genotyping_161114/MAVAN_imputed_161121/KIDS_info03/\"  #define homefolder path\n",
    "\n",
    "# Name of GWAS file \n",
    "gwasFiles=\"/Users/meaneylab/Documents/Nelson/GWAS/pgc.mdd.2012-04/pgc.mdd.clump.withAF.txt\"\n",
    "GWAS_has_header=True\n",
    "\n",
    "def getFileFromPattern(*pattern): # Multiple patterns need to be put into list format\n",
    "    files=[]\n",
    "    for pathpattern in pattern:\n",
    "        files=glob.glob(files)\n",
    "\n",
    "genoFileNamePattern=home+\"KIDS*info03.vcf\"   \n",
    "\n",
    "genoFileNames=glob.glob(genoFileNamePattern)\n",
    "# Alternatively, directly specify filename:\n",
    "#genoFileName=[home+\"fcgene_out_chr21comb.bierut1M_plus_filtered_chr21_c1_EA_COGA.gen\",\n",
    "              #home+\"fcgene_out_chr21comb.bierut1M_plus_filtered_chr21_c1_EA_COGEND.gen\",\n",
    "              #home+\"fcgene_out_chr22comb.bierut1M_plus_filtered_chr22_c1_EA_COGA.gen\",\n",
    "              #home+\"fcgene_out_chr22comb.bierut1M_plus_filtered_chr22_c1_EA_COGEND.gen\"]\n",
    "\n",
    "genoExtension=\".vcf\"\n",
    "\n",
    "\n",
    "# programme parameters\n",
    "log_or=True  # sepcify whether you want to log your odds ratios\n",
    "check_ref=True # if you know that there are mismatch between the top strand in the genotypes and that of the GWAS, set True. Not checking the reference allele will improve the speed\n",
    "\n",
    "# sample file path and name\n",
    "sampleFilePath=home+\"MAVAN_35_impute161121_KIDS_orderedSamples.csv\" # include the full/relative path and name of the sample file\n",
    "sampleFileDelim=\",\"  # sample File Delimiter\n",
    "sampleFileID=0   # which column in the sample file has the ID\n",
    "sample_skip=1  # how many lines to skip so that the sample names can be matched to the genotypes 1-to-1, taking into account the header of the sample file \n",
    "##output file information\n",
    "\n",
    "outputPath=home+\"MAVAN_KIDS_EWBPRS_161129.csv\"\n",
    "\n"
   ]
  },
  {
   "cell_type": "code",
   "execution_count": 3,
   "metadata": {
    "collapsed": false
   },
   "outputs": [
    {
     "name": "stdout",
     "output_type": "stream",
     "text": [
      "========================================\n",
      "Using these genoytpe files: \n",
      "/Volumes/mavan/Genotyping_161114/MAVAN_imputed_161121/KIDS_info03/KIDS9_info03.vcf\n",
      "/Volumes/mavan/Genotyping_161114/MAVAN_imputed_161121/KIDS_info03/KIDS8_info03.vcf\n",
      "/Volumes/mavan/Genotyping_161114/MAVAN_imputed_161121/KIDS_info03/KIDS7_info03.vcf\n",
      "/Volumes/mavan/Genotyping_161114/MAVAN_imputed_161121/KIDS_info03/KIDS6_info03.vcf\n",
      "/Volumes/mavan/Genotyping_161114/MAVAN_imputed_161121/KIDS_info03/KIDS5_info03.vcf\n",
      "/Volumes/mavan/Genotyping_161114/MAVAN_imputed_161121/KIDS_info03/KIDS4_info03.vcf\n",
      "/Volumes/mavan/Genotyping_161114/MAVAN_imputed_161121/KIDS_info03/KIDS3_info03.vcf\n",
      "/Volumes/mavan/Genotyping_161114/MAVAN_imputed_161121/KIDS_info03/KIDS2_info03.vcf\n",
      "/Volumes/mavan/Genotyping_161114/MAVAN_imputed_161121/KIDS_info03/KIDS22_info03.vcf\n",
      "/Volumes/mavan/Genotyping_161114/MAVAN_imputed_161121/KIDS_info03/KIDS21_info03.vcf\n",
      "/Volumes/mavan/Genotyping_161114/MAVAN_imputed_161121/KIDS_info03/KIDS20_info03.vcf\n",
      "/Volumes/mavan/Genotyping_161114/MAVAN_imputed_161121/KIDS_info03/KIDS1_info03.vcf\n",
      "/Volumes/mavan/Genotyping_161114/MAVAN_imputed_161121/KIDS_info03/KIDS19_info03.vcf\n",
      "/Volumes/mavan/Genotyping_161114/MAVAN_imputed_161121/KIDS_info03/KIDS18_info03.vcf\n",
      "/Volumes/mavan/Genotyping_161114/MAVAN_imputed_161121/KIDS_info03/KIDS17_info03.vcf\n",
      "/Volumes/mavan/Genotyping_161114/MAVAN_imputed_161121/KIDS_info03/KIDS16_info03.vcf\n",
      "/Volumes/mavan/Genotyping_161114/MAVAN_imputed_161121/KIDS_info03/KIDS15_info03.vcf\n",
      "/Volumes/mavan/Genotyping_161114/MAVAN_imputed_161121/KIDS_info03/KIDS14_info03.vcf\n",
      "/Volumes/mavan/Genotyping_161114/MAVAN_imputed_161121/KIDS_info03/KIDS13_info03.vcf\n",
      "/Volumes/mavan/Genotyping_161114/MAVAN_imputed_161121/KIDS_info03/KIDS12_info03.vcf\n",
      "and more...\n",
      "total of 22 files\n"
     ]
    }
   ],
   "source": [
    "print(\"=\"*40)\n",
    "print(\"Using these genoytpe files: \")\n",
    "\n",
    "counter = 0\n",
    "for filename in genoFileNames:\n",
    "    if counter<20:\n",
    "        counter+=1\n",
    "        print(filename)\n",
    "    else:\n",
    "        print(\"and more...\")\n",
    "        print(\"total of {} files\".format(str(len(genoFileNames))))\n",
    "        break"
   ]
  },
  {
   "cell_type": "markdown",
   "metadata": {},
   "source": [
    "### 1. Load files "
   ]
  },
  {
   "cell_type": "code",
   "execution_count": 156,
   "metadata": {
    "collapsed": false
   },
   "outputs": [
    {
     "name": "stdout",
     "output_type": "stream",
     "text": [
      "Using the GWAS file: pgc.mdd.clump.withAF.txt\n",
      "+----------+-------+-------+---+---+------+------+------+-----+---+---------+\n",
      "|     snpid|hg18chr|     bp| a1| a2|    or|    se|  pval| info|ngt|    CEUaf|\n",
      "+----------+-------+-------+---+---+------+------+------+-----+---+---------+\n",
      "|rs12562034|      1| 758311|  A|  G|0.9086| 0.089|0.2817| 1.02|  2|0.0925926|\n",
      "| rs4475691|      1| 836671|  T|  C| 1.004|0.0534|0.9342|0.981|  2| 0.146789|\n",
      "| rs2341362|      1| 917172|  T|  C|0.9136|0.0925|0.3284|0.975|  0|0.0275229|\n",
      "| rs9442372|      1|1008567|  A|  G| 1.025|0.0255|  0.33|0.953|  5| 0.408257|\n",
      "| rs6671356|      1|1029889|  T|  C| 1.029|0.0359|0.4301|0.978|  0| 0.889908|\n",
      "+----------+-------+-------+---+---+------+------+------+-----+---+---------+\n",
      "only showing top 5 rows\n",
      "\n"
     ]
    }
   ],
   "source": [
    "genodata=sc.textFile(genoFileNamePattern)\n",
    "#gwasfile=sc.textFile(gwasFiles)\n",
    "print(\"Using the GWAS file: {}\".format(ntpath.basename(gwasFiles)))\n",
    "#gwastable=gwasfile.filter(lambda line: \"snpid\" not in line).map(lambda line: line.split(GWAS_delim))\n",
    "gwastableCA=spark.read.option(\"header\", GWAS_has_header).option(\"delimiter\",GWAS_delim).csv(gwasFiles).cache()\n",
    "gwastable.show(5)\n",
    "\n"
   ]
  },
  {
   "cell_type": "markdown",
   "metadata": {},
   "source": [
    "### 1.1 Filter GWAS and prepare odds ratio\n"
   ]
  },
  {
   "cell_type": "code",
   "execution_count": 16,
   "metadata": {
    "collapsed": false,
    "scrolled": false
   },
   "outputs": [
    {
     "name": "stdout",
     "output_type": "stream",
     "text": [
      "Taking the log of odds ratios\n"
     ]
    }
   ],
   "source": [
    "reload(PRS_VCF_utils)\n",
    "maxThreshold=max(thresholds)\n",
    "gwasOddsMapMax=PRS_VCF_utils.filterGWASByP_DF(GWASdf=gwastableCA, pcolumn=gwas_p, idcolumn=gwas_id, oddscolumn=gwas_or, pHigh=maxThreshold, logOdds=log_or)\n",
    "gwasOddsMapMaxCA=sc.broadcast(gwasOddsMapMax).value"
   ]
  },
  {
   "cell_type": "markdown",
   "metadata": {},
   "source": [
    "### 2. Initial processing "
   ]
  },
  {
   "cell_type": "code",
   "execution_count": 17,
   "metadata": {
    "collapsed": false,
    "scrolled": false
   },
   "outputs": [],
   "source": [
    "# at this step, the genotypes are already filtered to keep only the ones in 'gwasOddsMap'\n",
    "genointermediate=genodata.filter(lambda line: (\"#\" not in line))\\\n",
    ".map(lambda line: line.split(GENO_delim))\\\n",
    ".filter(lambda line: line[geno_id] in gwasOddsMapMaxCA)\\\n",
    ".map(lambda line: line[0:5]+[chunk.split(\":\")[3] for chunk in line[geno_start::]])\\\n",
    ".map(lambda line: line[0:5]+[triplet.split(\",\") for triplet in line[5::]])\n",
    "\n",
    "genoAlleles=genointermediate.map(lambda line: (line[geno_id], (line[geno_a1], line[geno_a1+1])))\n",
    "genotable=genointermediate.map(lambda line: (line[geno_id], list(itertools.chain.from_iterable(line[5::]))))\\\n",
    ".mapValues(lambda geno: [float(x) for x in geno])\n"
   ]
  },
  {
   "cell_type": "markdown",
   "metadata": {},
   "source": [
    "### 2.1 Calculate and store MAF"
   ]
  },
  {
   "cell_type": "code",
   "execution_count": 18,
   "metadata": {
    "collapsed": false,
    "scrolled": false
   },
   "outputs": [],
   "source": [
    "reload(PRS_VCF_utils)\n",
    "genoa1f=genointermediate.map(lambda line: (line[geno_id], (line[geno_a1], line[geno_a1+1]), [float(x) for x in list(itertools.chain.from_iterable(line[5::]))]))\\\n",
    ".map(lambda line: (line[0], line[1][0], line[1][1], PRS_VCF_utils.getMaf(line[2]))).toDF([\"Snpid_geno\", \"GenoA1\", \"GenoA2\", \"GenoA1f\"])\n",
    "\n",
    "#genoa1f.map(lambda line:\"\\t\".join([line[0], \"\\t\".join(line[1]), str(line[2])])).saveAsTextFile(\"../MOMS_info03_maf\")\n"
   ]
  },
  {
   "cell_type": "markdown",
   "metadata": {},
   "source": [
    "### 3. Determine whether each SNP needs to be flipped"
   ]
  },
  {
   "cell_type": "code",
   "execution_count": 29,
   "metadata": {
    "collapsed": false,
    "scrolled": false
   },
   "outputs": [],
   "source": [
    "# may take a long time\n",
    "gwasA1f=gwastableCA.rdd.map(lambda line:(line[gwas_id], line[gwas_a1], line[gwas_a1+1], line[gwas_maf])).toDF([\"Snpid_gwas\", \"GwasA1\", \"GwasA2\", \"GwasMaf\"])\n",
    "checktable=genoa1f.join(gwasA1f, genoa1f[\"Snpid_geno\"]==gwasA1f[\"Snpid_gwas\"], \"inner\").cache()\n",
    "bpMap={\"A\":\"T\", \"T\":\"A\", \"C\":\"G\", \"G\":\"C\"}\n",
    "reload(PRS_VCF_utils)\n",
    "flagMap=checktable.rdd.map(lambda line: PRS_VCF_utils.checkAlignmentDF(line, bpMap)).collectAsMap()\n"
   ]
  },
  {
   "cell_type": "markdown",
   "metadata": {},
   "source": [
    "### 4. Convert genotype dosages to single-digit representation"
   ]
  },
  {
   "cell_type": "code",
   "execution_count": 137,
   "metadata": {
    "collapsed": false
   },
   "outputs": [
    {
     "name": "stdout",
     "output_type": "stream",
     "text": [
      "Detected 261 samples\n"
     ]
    }
   ],
   "source": [
    "samplesize=int(len(genotable.first()[1])/3)\n",
    "print(\"Detected {} samples\" .format(str(samplesize)))"
   ]
  },
  {
   "cell_type": "code",
   "execution_count": 162,
   "metadata": {
    "collapsed": false,
    "scrolled": false
   },
   "outputs": [
    {
     "name": "stdout",
     "output_type": "stream",
     "text": [
      "Generate genotype dosage while taking into account strand alignment differences\n"
     ]
    }
   ],
   "source": [
    "# filter the raw genotype file\n",
    "reload(PRS_VCF_utils)\n",
    "if check_ref:\n",
    "    print(\"Generate genotype dosage while taking into account strand alignment differences\")\n",
    "    genotypeMax=genotable.map(lambda line: PRS_VCF_utils.makeGenotypeCheckRef(line, checkMap=flagMap)).cache()\n",
    "    \n",
    "else:\n",
    "    print(\"Generate genotype dosage without checking strand alignments\")\n",
    "    genotypeMax=genotable.map(lambda line: PRS_VCF_utils.makeGenotype(line, gwasOddsMapCA)).cache()\n"
   ]
  },
  {
   "cell_type": "markdown",
   "metadata": {},
   "source": [
    "### 5. Calculate PRS at the sepcified thresholds"
   ]
  },
  {
   "cell_type": "code",
   "execution_count": 164,
   "metadata": {
    "collapsed": false
   },
   "outputs": [],
   "source": [
    "# Calculate the PRS with the maximum threshold\n",
    "# calculate PRS from genotype\n",
    "reload(PRS_VCF_utils)\n",
    "def calcPRSFromGeno(genotypeRDD, oddsMap):\n",
    "    totalcount=genotypeRDD.count()\n",
    "    multiplied=genotypeRDD.map(lambda line:[call * oddsMap[line[0]] for call in line[1]])\n",
    "    PRS=multiplied.reduce(lambda a,b: map(add, a, b))\n",
    "    normalizedPRS=[x/totalcount for x in PRS]\n",
    "    return (totalcount,PRS)\n"
   ]
  },
  {
   "cell_type": "code",
   "execution_count": 167,
   "metadata": {
    "collapsed": false,
    "scrolled": false
   },
   "outputs": [
    {
     "name": "stdout",
     "output_type": "stream",
     "text": [
      "Filtering GWAS, taking the log of odds ratios\n",
      "Filtered GWAS at threshold of 0.5. Time spent : 1.0 seconds\n",
      "Finished calculating PRS at threshold of 0.5. Time spent : 3383.0 seconds\n",
      "Filtering GWAS, taking the log of odds ratios\n",
      "Filtered GWAS at threshold of 0.3. Time spent : 0.9 seconds\n",
      "Finished calculating PRS at threshold of 0.3. Time spent : 28.5 seconds\n",
      "Filtering GWAS, taking the log of odds ratios\n",
      "Filtered GWAS at threshold of 0.2. Time spent : 0.8 seconds\n",
      "Finished calculating PRS at threshold of 0.2. Time spent : 24.9 seconds\n",
      "Filtering GWAS, taking the log of odds ratios\n",
      "Filtered GWAS at threshold of 0.1. Time spent : 0.8 seconds\n",
      "Finished calculating PRS at threshold of 0.1. Time spent : 37.9 seconds\n",
      "Filtering GWAS, taking the log of odds ratios\n",
      "Filtered GWAS at threshold of 0.05. Time spent : 1.3 seconds\n",
      "Finished calculating PRS at threshold of 0.05. Time spent : 28.9 seconds\n",
      "Filtering GWAS, taking the log of odds ratios\n",
      "Filtered GWAS at threshold of 0.01. Time spent : 1.3 seconds\n",
      "Finished calculating PRS at threshold of 0.01. Time spent : 18.7 seconds\n",
      "Filtering GWAS, taking the log of odds ratios\n",
      "Filtered GWAS at threshold of 0.001. Time spent : 0.6 seconds\n",
      "Finished calculating PRS at threshold of 0.001. Time spent : 14.6 seconds\n"
     ]
    }
   ],
   "source": [
    "def calcAll(genotypeRDD, gwasRDD, thresholdlist):\n",
    "    prsMap={}\n",
    "    if len(thresholdlist)>1:\n",
    "        thresholdNoMaxSorted=sorted(thresholdlist, reverse=True)\n",
    "    else:\n",
    "        thresholdNoMaxSorted=thresholdlist\n",
    "    start=time()\n",
    "    \n",
    "    for threshold in thresholdNoMaxSorted:\n",
    "        tic=time()\n",
    "        gwasFilteredBC=sc.broadcast(PRS_VCF_utils.filterGWASByP_DF(GWASdf=gwasRDD, pcolumn=gwas_p, idcolumn=gwas_id, oddscolumn=gwas_or, pHigh=threshold, logOdds=log_or))\n",
    "        #gwasFiltered=spark.sql(\"SELECT snpid, gwas_or_float FROM gwastable WHERE gwas_p_float < {:f}\".format(threshold) \n",
    "        print(\"Filtered GWAS at threshold of {}. Time spent : {:3.1f} seconds\".format( str(threshold), time()-tic) )\n",
    "        checkpoint=time()\n",
    "        filteredgenotype=genotypeRDD.filter(lambda line: line[0] in gwasFilteredBC.value)\n",
    "        if not filteredgenotype.isEmpty():\n",
    "            prsOther=calcPRSFromGeno(filteredgenotype, gwasFilteredBC.value)\n",
    "            prsMap[threshold]=prsOther\n",
    "            print(\"Finished calculating PRS at threshold of {}. Time spent : {:3.1f} seconds\".format(str(threshold), time()-checkpoint))\n",
    "            \n",
    "    return prsMap\n",
    "\n",
    "prsDict=calcAll(genotypeMax,gwastableCA, thresholds)"
   ]
  },
  {
   "cell_type": "code",
   "execution_count": 89,
   "metadata": {
    "collapsed": false,
    "scrolled": false
   },
   "outputs": [],
   "source": [
    "reload(PRS_VCF_utils)\n",
    "subjNames=PRS_VCF_utils.getSampleNames(sampleFilePath,sampleFileDelim,sampleFileID, skip=1)"
   ]
  },
  {
   "cell_type": "code",
   "execution_count": 94,
   "metadata": {
    "collapsed": false
   },
   "outputs": [
    {
     "name": "stdout",
     "output_type": "stream",
     "text": [
      "Successfully wrote scores to MAVAN_KIDS_EWBPRS_161129.csv\n"
     ]
    }
   ],
   "source": [
    "\n",
    "reload(PRS_VCF_utils)\n",
    "test=PRS_VCF_utils.writePRS(prsDict,  outputPath, samplenames=subjNames)"
   ]
  }
 ],
 "metadata": {
  "anaconda-cloud": {},
  "kernelspec": {
   "display_name": "Python [default]",
   "language": "python",
   "name": "python2"
  },
  "language_info": {
   "codemirror_mode": {
    "name": "ipython",
    "version": 2
   },
   "file_extension": ".py",
   "mimetype": "text/x-python",
   "name": "python",
   "nbconvert_exporter": "python",
   "pygments_lexer": "ipython2",
   "version": "2.7.12"
  }
 },
 "nbformat": 4,
 "nbformat_minor": 0
}
