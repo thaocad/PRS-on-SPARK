{
 "cells": [
  {
   "cell_type": "markdown",
   "metadata": {},
   "source": [
    "### Calculating PRS using VCF files\n"
   ]
  },
  {
   "cell_type": "code",
   "execution_count": 60,
   "metadata": {
    "collapsed": false
   },
   "outputs": [
    {
     "data": {
      "text/html": [
       "<style>.container { width:100% !important; }</style>"
      ],
      "text/plain": [
       "<IPython.core.display.HTML object>"
      ]
     },
     "metadata": {},
     "output_type": "display_data"
    }
   ],
   "source": [
    "# making the notebok wider\n",
    "from IPython.core.display import display, HTML\n",
    "display(HTML(\"<style>.container { width:100% !important; }</style>\"))"
   ]
  },
  {
   "cell_type": "code",
   "execution_count": 24,
   "metadata": {
    "collapsed": false
   },
   "outputs": [
    {
     "data": {
      "text/plain": [
       "u'##fileformat=VCFv4.2'"
      ]
     },
     "execution_count": 24,
     "metadata": {},
     "output_type": "execute_result"
    }
   ],
   "source": [
    "genodata.first()"
   ]
  },
  {
   "cell_type": "code",
   "execution_count": 27,
   "metadata": {
    "collapsed": false
   },
   "outputs": [],
   "source": [
    "from __future__ import division\n",
    "from pyspark import SparkConf, SparkContext\n",
    "from operator import add\n",
    "import re\n",
    "import glob, os\n",
    "import csv\n",
    "from collections import Counter\n",
    "import ntpath\n",
    "import functools\n",
    "#from functools import reduce\n",
    "from math import log\n",
    "import itertools\n",
    "import PRS_utils as PRS_VCF_utils\n",
    "from pyspark.sql.functions import udf\n",
    "\n",
    "\n",
    "\n",
    "# PRS calculation on pruned NFP data, 50, 5, VIF=2\n",
    "\n",
    "#**ATTN: python index starts at 0, so if you want to specify the second column, use 1\n",
    "#**ATTN: please remove the header of the GWAS file if there is any\n",
    "\n",
    "# define column number for contents in GWAS\n",
    "\n",
    "gwas_id=0    # column of SNP ID\n",
    "gwas_p=7     # column of P value\n",
    "gwas_or=5    # column of odds ratio\n",
    "gwas_a1=3    # column of a1 in the GWAS\n",
    "gwas_maf= 10 # column index of maf in the GWAS\n",
    "\n",
    "# defin column number for contents in genfile\n",
    "geno_id=2  # column number with rsID\n",
    "geno_start=9 # column number of the 1st genotype, in the raw vcf files, after separated by the delimiter of choice\n",
    "geno_a1 = 3  # column number that contains the reference allele\n",
    "\n",
    "# List of thresholds:\n",
    "thresholds=[0.5, 0.3, 0.2, 0.1, 0.05, 0.01, 0.001, 0.0001]\n",
    "\n",
    "# file delimiters:\n",
    "GWAS_delim=\"\\t\"\n",
    "GENO_delim=\"\\t\"\n",
    "\n",
    "# file names:\n",
    "home=\"/Volumes/mavan/Genotyping_161114/MAVAN_imputed_161121/KIDS_info03/\"  #define homefolder path\n",
    "\n",
    "gwasFiles=\"/Users/meaneylab/Documents/Nelson/GWAS/pgc.mdd.2012-04/pgc.mdd.clump.withAF.txt\"      # Name of GWAS file \n",
    "\n",
    "\n",
    "def getFileFromPattern(*pattern): # Multiple patterns need to be put into list format\n",
    "    files=[]\n",
    "    for pathpattern in pattern:\n",
    "        files=glob.glob(files)\n",
    "\n",
    "genoFileNamePattern=home+\"*info03.vcf\"   \n",
    "\n",
    "genoFileNames=glob.glob(genoFileNamePattern)\n",
    "# Alternatively, directly specify filename:\n",
    "#genoFileName=[home+\"fcgene_out_chr21comb.bierut1M_plus_filtered_chr21_c1_EA_COGA.gen\",\n",
    "              #home+\"fcgene_out_chr21comb.bierut1M_plus_filtered_chr21_c1_EA_COGEND.gen\",\n",
    "              #home+\"fcgene_out_chr22comb.bierut1M_plus_filtered_chr22_c1_EA_COGA.gen\",\n",
    "              #home+\"fcgene_out_chr22comb.bierut1M_plus_filtered_chr22_c1_EA_COGEND.gen\"]\n",
    "\n",
    "genoExtension=\".vcf\"\n",
    "\n",
    "\n",
    "# programme parameters\n",
    "log_or=True  # sepcify whether you want to log your odds ratios\n",
    "check_ref=True # if you know that there are mismatch between the top strand in the genotypes and that of the GWAS, set True. Not checking the reference allele will improve the speed\n",
    "\n",
    "# sample file path and name\n",
    "sampleFilePath=home+\"MAVAN_35_impute161121_KIDS_orderedSamples.csv\" # include the full/relative path and name of the sample file\n",
    "sampleFileDelim=\",\"  # sample File Delimiter\n",
    "sampleFileID=4   # which column in the sample file has the ID\n",
    "sample_skip=1  # how many lines to skip so that the sample names can be matched to the genotypes 1-to-1, taking into account the header of the sample file \n",
    "##output file information\n",
    "\n",
    "outputPath=\"/Volumes/mavan/PRS/MAVAN_KIDS_mddPRS_161125.csv\""
   ]
  },
  {
   "cell_type": "code",
   "execution_count": 2,
   "metadata": {
    "collapsed": false
   },
   "outputs": [
    {
     "name": "stdout",
     "output_type": "stream",
     "text": [
      "<pyspark.context.SparkContext object at 0x10873c690>\n"
     ]
    }
   ],
   "source": [
    "import pyspark\n",
    "from pyspark.sql import SQLContext\n",
    "\n",
    "# We can give a name to our app (to find it in Spark WebUI) and configure execution mode\n",
    "\n",
    "\n",
    "APP_NAME=\"MAVANvcfPRS1.0\"\n",
    "conf = pyspark.SparkConf().setAppName(APP_NAME).set(\"spark.ui.port\", \"4041\")\n",
    "sc = pyspark.SparkContext(conf=conf)\n",
    "print(sc)\n",
    "sc.setLogLevel(\"WARN\")\n",
    "log4jLogger = sc._jvm.org.apache.log4j\n",
    "LOGGER = log4jLogger.LogManager.getLogger(__name__)\n",
    "LOGGER.info(\"Start Reading Files\")\n",
    "\n"
   ]
  },
  {
   "cell_type": "code",
   "execution_count": 3,
   "metadata": {
    "collapsed": false
   },
   "outputs": [
    {
     "name": "stdout",
     "output_type": "stream",
     "text": [
      "========================================\n",
      "Using these genoytpe files: \n",
      "/Volumes/mavan/Genotyping_161114/MAVAN_imputed_161121/KIDS_info03/KIDS9_info03.vcf\n",
      "/Volumes/mavan/Genotyping_161114/MAVAN_imputed_161121/KIDS_info03/KIDS8_info03.vcf\n",
      "/Volumes/mavan/Genotyping_161114/MAVAN_imputed_161121/KIDS_info03/KIDS7_info03.vcf\n",
      "/Volumes/mavan/Genotyping_161114/MAVAN_imputed_161121/KIDS_info03/KIDS6_info03.vcf\n",
      "/Volumes/mavan/Genotyping_161114/MAVAN_imputed_161121/KIDS_info03/KIDS5_info03.vcf\n",
      "/Volumes/mavan/Genotyping_161114/MAVAN_imputed_161121/KIDS_info03/KIDS4_info03.vcf\n",
      "/Volumes/mavan/Genotyping_161114/MAVAN_imputed_161121/KIDS_info03/KIDS3_info03.vcf\n",
      "/Volumes/mavan/Genotyping_161114/MAVAN_imputed_161121/KIDS_info03/KIDS2_info03.vcf\n",
      "/Volumes/mavan/Genotyping_161114/MAVAN_imputed_161121/KIDS_info03/KIDS22_info03.vcf\n",
      "/Volumes/mavan/Genotyping_161114/MAVAN_imputed_161121/KIDS_info03/KIDS21_info03.vcf\n",
      "/Volumes/mavan/Genotyping_161114/MAVAN_imputed_161121/KIDS_info03/KIDS20_info03.vcf\n",
      "/Volumes/mavan/Genotyping_161114/MAVAN_imputed_161121/KIDS_info03/KIDS1_info03.vcf\n",
      "/Volumes/mavan/Genotyping_161114/MAVAN_imputed_161121/KIDS_info03/KIDS19_info03.vcf\n",
      "/Volumes/mavan/Genotyping_161114/MAVAN_imputed_161121/KIDS_info03/KIDS18_info03.vcf\n",
      "/Volumes/mavan/Genotyping_161114/MAVAN_imputed_161121/KIDS_info03/KIDS17_info03.vcf\n",
      "/Volumes/mavan/Genotyping_161114/MAVAN_imputed_161121/KIDS_info03/KIDS16_info03.vcf\n",
      "/Volumes/mavan/Genotyping_161114/MAVAN_imputed_161121/KIDS_info03/KIDS15_info03.vcf\n",
      "/Volumes/mavan/Genotyping_161114/MAVAN_imputed_161121/KIDS_info03/KIDS14_info03.vcf\n",
      "/Volumes/mavan/Genotyping_161114/MAVAN_imputed_161121/KIDS_info03/KIDS13_info03.vcf\n",
      "/Volumes/mavan/Genotyping_161114/MAVAN_imputed_161121/KIDS_info03/KIDS12_info03.vcf\n",
      "and more....\n"
     ]
    }
   ],
   "source": [
    "print(\"=\"*40)\n",
    "print(\"Using these genoytpe files: \")\n",
    "\n",
    "counter = 0\n",
    "for filename in genoFileNames:\n",
    "    if counter<20:\n",
    "        counter+=1\n",
    "        print(filename)\n",
    "    else:\n",
    "        print(\"and more....\")\n",
    "        break"
   ]
  },
  {
   "cell_type": "markdown",
   "metadata": {},
   "source": [
    "### 1. Load files "
   ]
  },
  {
   "cell_type": "code",
   "execution_count": 4,
   "metadata": {
    "collapsed": false
   },
   "outputs": [
    {
     "name": "stdout",
     "output_type": "stream",
     "text": [
      "Using the GWAS file: pgc.mdd.clump.withAF.txt\n"
     ]
    }
   ],
   "source": [
    "genodata=sc.textFile(genoFileNamePattern)\n",
    "gwasfile=sc.textFile(gwasFiles)\n",
    "print(\"Using the GWAS file: {}\".format(ntpath.basename(gwasFiles)))\n",
    "gwastable=gwasfile.filter(lambda line: \"snpid\" not in line).map(lambda line: line.split(GWAS_delim))\n",
    "gwastableCA=gwastable.cache()\n"
   ]
  },
  {
   "cell_type": "markdown",
   "metadata": {},
   "source": [
    "### 1.1 Filter GWAS and prepare odds ratio\n"
   ]
  },
  {
   "cell_type": "code",
   "execution_count": 5,
   "metadata": {
    "collapsed": false
   },
   "outputs": [
    {
     "name": "stdout",
     "output_type": "stream",
     "text": [
      "Filtering GWAS, taking the log of odds ratios\n"
     ]
    }
   ],
   "source": [
    "maxThreshold=max(thresholds)\n",
    "gwasOddsMapMax=PRS_VCF_utils.filterGWASByP(GWASRdd=gwastableCA, pcolumn=gwas_p, idcolumn=gwas_id, oddscolumn=gwas_or, pHigh=maxThreshold, logOdds=log_or)\n",
    "gwasOddsMapMaxCA=sc.broadcast(gwasOddsMapMax).value"
   ]
  },
  {
   "cell_type": "markdown",
   "metadata": {},
   "source": [
    "### 2. Initial processing "
   ]
  },
  {
   "cell_type": "code",
   "execution_count": 6,
   "metadata": {
    "collapsed": false,
    "scrolled": false
   },
   "outputs": [],
   "source": [
    "# After this step, the genotpe is already filtered to keep only the ones in 'gwasOddsMapMaxCA'\n",
    "genointermediate=genodata.filter(lambda line: (\"#\" not in line))\\\n",
    ".map(lambda line: line.split(GENO_delim))\\\n",
    ".filter(lambda line: line[geno_id] in gwasOddsMapMaxCA)\\\n",
    ".map(lambda line: line[0:5]+[chunk.split(\":\")[3] for chunk in line[geno_start::]])\\\n",
    ".map(lambda line: line[0:5]+[triplet.split(\",\") for triplet in line[5::]])\n",
    "\n",
    "genoAlleles=genointermediate.map(lambda line: (line[geno_id], (line[geno_a1], line[geno_a1+1])))\n",
    "genotable=genointermediate.map(lambda line: (line[geno_id], list(itertools.chain.from_iterable(line[5::]))))\\\n",
    ".mapValues(lambda geno: [float(x) for x in geno])\n"
   ]
  },
  {
   "cell_type": "markdown",
   "metadata": {},
   "source": [
    "### 2.1 Calculate and store MAF"
   ]
  },
  {
   "cell_type": "code",
   "execution_count": 7,
   "metadata": {
    "collapsed": false,
    "scrolled": false
   },
   "outputs": [],
   "source": [
    "reload(PRS_VCF_utils)\n",
    "genoa1f=genointermediate.map(lambda line: (line[geno_id], (line[geno_a1], line[geno_a1+1]), [float(x) for x in list(itertools.chain.from_iterable(line[5::]))]))\\\n",
    ".map(lambda line: (line[0], line[1],PRS_VCF_utils.getMaf(line[2])))\n",
    "\n",
    "#genoa1f.map(lambda line:\"\\t\".join([line[0], \"\\t\".join(line[1]), str(line[2])])).saveAsTextFile(\"../MOMS_info03_maf\")\n"
   ]
  },
  {
   "cell_type": "markdown",
   "metadata": {},
   "source": [
    "### 3. Determine whether each SNP needs to be flipped"
   ]
  },
  {
   "cell_type": "code",
   "execution_count": 10,
   "metadata": {
    "collapsed": true
   },
   "outputs": [],
   "source": [
    "checktable=genoa1f.map(lambda line: (line[0], (line[1], line[2])))\\\n",
    ".join(gwastableCA.map(lambda line:(line[gwas_id], ((line[gwas_a1], line[gwas_a1+1]), line[gwas_maf])))).cache()"
   ]
  },
  {
   "cell_type": "code",
   "execution_count": 11,
   "metadata": {
    "collapsed": false
   },
   "outputs": [
    {
     "name": "stdout",
     "output_type": "stream",
     "text": [
      "CPU times: user 2 µs, sys: 1e+03 ns, total: 3 µs\n",
      "Wall time: 4.05 µs\n"
     ]
    }
   ],
   "source": [
    "reload(PRS_VCF_utils)\n",
    "flagMap=checktable.mapValues(lambda line: PRS_VCF_utils.checkAlignment(line)).collectAsMap()"
   ]
  },
  {
   "cell_type": "code",
   "execution_count": 12,
   "metadata": {
    "collapsed": false
   },
   "outputs": [
    {
     "name": "stdout",
     "output_type": "stream",
     "text": [
      "Calculating genotype dosage while taking into account strand alignment differences\n"
     ]
    }
   ],
   "source": [
    "# filter the raw genotype file\n",
    "reload(PRS_VCF_utils)\n",
    "if check_ref:\n",
    "    print(\"Calculating genotype dosage while taking into account strand alignment differences\")\n",
    "    genotypeMax=genotable.map(lambda line: PRS_VCF_utils.makeGenotypeCheckRef(line, checkMap=flagMap)).cache()\n",
    "    samplesize=len(genotypeMax.first()[1])\n",
    "else:\n",
    "    genotypeMax=genotable.map(lambda line: PRS_VCF_utils.makeGenotype(line, gwasOddsMapCA)).cache()\n",
    "    samplesize=len(genotypeMax.first()[1])"
   ]
  },
  {
   "cell_type": "code",
   "execution_count": 13,
   "metadata": {
    "collapsed": false
   },
   "outputs": [],
   "source": [
    "# Calculate the PRS with the maximum threshold\n",
    "# calculate PRS from genotype\n",
    "reload(PRS_VCF_utils)\n",
    "def calcPRSFromGeno(genotypeRDD, oddsMap):\n",
    "    totalcount=genotypeRDD.count()\n",
    "    multiplied=genotypeRDD.map(lambda line:[call * oddsMap[line[0]] for call in line[1]])\n",
    "    filtered=multiplied.filter(lambda line: line is not None)\n",
    "    PRS=multiplied.reduce(lambda a,b: map(add, a, b))\n",
    "    normalizedPRS=[x/totalcount for x in PRS]\n",
    "    return (totalcount,PRS)\n",
    "\n",
    "prsMax=calcPRSFromGeno(genotypeMax, gwasOddsMapMaxCA)\n",
    "prsDict={}\n",
    "prsDict[maxThreshold]=prsMax\n",
    "# Calculate PRS for the rest of the thresholds"
   ]
  },
  {
   "cell_type": "code",
   "execution_count": 15,
   "metadata": {
    "collapsed": false
   },
   "outputs": [
    {
     "name": "stdout",
     "output_type": "stream",
     "text": [
      "Filtering GWAS, taking the log of odds ratios\n",
      "filtering GWAS at threshold of 0.3 took 0.78 seconds\n",
      "finished calculating PRS at threshold of 0.3, used 27.74 seconds\n",
      "Filtering GWAS, taking the log of odds ratios\n",
      "filtering GWAS at threshold of 0.2 took 0.74 seconds\n",
      "finished calculating PRS at threshold of 0.2, used 23.47 seconds\n",
      "Filtering GWAS, taking the log of odds ratios\n",
      "filtering GWAS at threshold of 0.1 took 0.71 seconds\n",
      "finished calculating PRS at threshold of 0.1, used 23.25 seconds\n",
      "Filtering GWAS, taking the log of odds ratios\n",
      "filtering GWAS at threshold of 0.05 took 0.66 seconds\n",
      "finished calculating PRS at threshold of 0.05, used 17.95 seconds\n",
      "Filtering GWAS, taking the log of odds ratios\n",
      "filtering GWAS at threshold of 0.01 took 0.67 seconds\n",
      "finished calculating PRS at threshold of 0.01, used 13.81 seconds\n",
      "Filtering GWAS, taking the log of odds ratios\n",
      "filtering GWAS at threshold of 0.001 took 0.68 seconds\n",
      "finished calculating PRS at threshold of 0.001, used 12.52 seconds\n",
      "Filtering GWAS, taking the log of odds ratios\n",
      "filtering GWAS at threshold of 0.0001 took 0.63 seconds\n",
      "finished calculating PRS at threshold of 0.0001, used 12.21 seconds\n"
     ]
    }
   ],
   "source": [
    "from time import time\n",
    "\n",
    "def calcNoMax(genotypeRDD, gwasRDD, thresholdlist, prsMap):\n",
    "    \n",
    "    if len(thresholdlist)>1:\n",
    "        thresholdListNoMax=[x for x in thresholds if x != maxThreshold]\n",
    "        thresholdNoMaxSorted=sorted(thresholdListNoMax, reverse=True)\n",
    "    else:\n",
    "        thresholdNoMaxSorted=thresholdlist\n",
    "    start=time()\n",
    "    for threshold in thresholdNoMaxSorted:\n",
    "        tic=time()\n",
    "        gwasFiltered=PRS_VCF_utils.filterGWASByP(GWASRdd=gwasRDD, pcolumn=gwas_p, idcolumn=gwas_id, oddscolumn=gwas_or, pHigh=threshold, logOdds=log_or)\n",
    "        print(\"filtering GWAS at threshold of {} took {:3.2f} seconds\".format( str(threshold), time()-tic) )\n",
    "        \n",
    "        checkpoint=time()\n",
    "\n",
    "        gwasFilteredBC=sc.broadcast(gwasFiltered)\n",
    "        filteredgenotype=genotypeRDD.filter(lambda line: line[0] in gwasFilteredBC.value)\n",
    "        if not filteredgenotype.isEmpty():\n",
    "            prsOther=calcPRSFromGeno(filteredgenotype, gwasFilteredBC.value)\n",
    "            prsMap[threshold]=prsOther\n",
    "            print(\"finished calculating PRS at threshold of {}, used {:3.2f} seconds\".format(str(threshold), time()-checkpoint))\n",
    "            \n",
    "    return prsMap\n",
    "\n",
    "finalresult=calcNoMax(genotypeMax,gwastableCA, thresholds, prsDict)"
   ]
  },
  {
   "cell_type": "code",
   "execution_count": 28,
   "metadata": {
    "collapsed": false,
    "scrolled": false
   },
   "outputs": [
    {
     "name": "stdout",
     "output_type": "stream",
     "text": [
      "Successfully wrote scores to MAVAN_KIDS_mddPRS_161125.csv\n"
     ]
    }
   ],
   "source": [
    "reload(PRS_VCF_utils)\n",
    "subjNames=PRS_VCF_utils.getSampleNames(sampleFilePath,sampleFileDelim,sampleFileID, skip=1)\n",
    "test=PRS_VCF_utils.writePRS(finalresult,  outputPath, samplenames=subjNames)"
   ]
  }
 ],
 "metadata": {
  "kernelspec": {
   "display_name": "Python 2",
   "language": "python",
   "name": "python2"
  },
  "language_info": {
   "codemirror_mode": {
    "name": "ipython",
    "version": 2
   },
   "file_extension": ".py",
   "mimetype": "text/x-python",
   "name": "python",
   "nbconvert_exporter": "python",
   "pygments_lexer": "ipython2",
   "version": "2.7.11"
  }
 },
 "nbformat": 4,
 "nbformat_minor": 0
}
